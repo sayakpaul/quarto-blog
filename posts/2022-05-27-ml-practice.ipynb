{
 "cells": [
  {
   "cell_type": "raw",
   "id": "87ca8458",
   "metadata": {},
   "source": [
    "---\n",
    "aliases:\n",
    "- ml-practice\n",
    "badges: false\n",
    "categories:\n",
    "- ml-practice\n",
    "- jobs\n",
    "date: '2022-05-27'\n",
    "description: Thoughts on learning and exercising ML skills.\n",
    "hide: false\n",
    "output-file: ml-practice.html\n",
    "permalink: ml-practice\n",
    "search_exclude: false\n",
    "title: Practicing ML in a Non-ML Job\n",
    "toc: false\n",
    "comments:\n",
    "  utterances:\n",
    "    repo: sayakpaul/portfolio\n",
    "---\n",
    "\n"
   ]
  },
  {
   "cell_type": "markdown",
   "id": "77c547e4",
   "metadata": {
    "id": "77c547e4"
   },
   "source": [
    "Many people who aspire to become Machine Learning (ML) practitioners find it particularly difficult to continue to hone relevant skills when they pursue a job that does not involve even a tiny bit of ML. So, if you’re serious about choosing ML as a potential career option, it’s important to ensure you continue to practise what you’re learning along the way. Otherwise, there’d likely be nothing for a recruiter to trust in your candidature which, in turn, minimizes your chances of landing the ML job you always wanted. \n",
    "\n",
    "I myself am not an exception to this. Back in 2017, when I was working at Tata Consultancy Services Limited (TCS), I didn’t get any assignments involving ML expertise. But I tried to utilize my off-work hours in a way that helped me improve my ML-specific knowledge as well as strengthen my candidature. \n",
    "\n",
    "So, in this post, I’ll share what I did during those days in the hope of providing some meaningful ways for navigation.\n",
    "\n",
    "**Disclaimer**: The opinions stated in this post are solely mine and they are not  meant to demean anyone else’s opinions about the same topic. "
   ]
  },
  {
   "cell_type": "markdown",
   "id": "9133e5de",
   "metadata": {
    "id": "9133e5de"
   },
   "source": [
    "## Assumptions\n",
    "\n",
    "The post is best-suited for professionals that have prior experience in coding (preferably in Python) and know their way around the fundamentals of ML. If you’re an absolute beginner then I recommend picking up a book ([an example](https://www.manning.com/books/grokking-machine-learning)) or a course ([an example](https://developers.google.com/machine-learning/crash-course)) to get started. Also, if you haven’t yet picked up an ML framework (Scikit-Learn, PyTorch, TensorFlow, JAX, etc.), then I highly recommend picking one up. "
   ]
  },
  {
   "cell_type": "markdown",
   "id": "ed1e5a70",
   "metadata": {
    "id": "ed1e5a70"
   },
   "source": [
    "## Solace in Uncertainty \n",
    "\n",
    "Set your objectives straight. Ask yourself if you’re absolutely certain about wanting to pursue a career in ML. If so, then are you willing to make the adjustments necessary to attain that at any cost? Although these questions are not specific to the purposes of this post, they help set a mindset to push through uncertain times. \n",
    "\n",
    "I was hell-bent on taking up a career in ML that helped me to work on myself in those extra hours after work. It didn’t feel like I’m being forced into doing this. I thoroughly enjoyed the process and I trusted it. There are things I still enjoy doing like, reading a new paper, learning about a new concept, implementing it, etc. "
   ]
  },
  {
   "cell_type": "markdown",
   "id": "54ad9119",
   "metadata": {
    "id": "54ad9119"
   },
   "source": [
    "## Overwhelm and Courage to Learn\n",
    "\n",
    "Feeling overwhelmed especially in the ML domain is common given how vast the field is and how rapidly it is evolving regularly. I see this positively because I know that there are things I don’t yet know and I use it as a learning opportunity to improve my knowledge. \n",
    "\n",
    "One might wonder, do I learn each and everything that comes out? That’s impossible and likely, isn’t very helpful. So, I like to pick up something from the vault of things that genuinely interest me in ML and start digging deeper. I find it incredibly helpful in boosting my confidence. I also figured that the more I did this, the better I was able to develop a general understanding of a broad number of relevant things. \n",
    "\n",
    "In a nutshell, treating the feeling of “overwhelm” as a learning opportunity has been quite helpful for me. "
   ]
  },
  {
   "cell_type": "markdown",
   "id": "2faf8d69",
   "metadata": {
    "id": "2faf8d69"
   },
   "source": [
    "## Learn, Apply, (Demo), Repeat\n",
    "\n",
    "Learning is not enough. You need to be able to develop evidence that shows you can apply what you’ve learned successfully. I highly recommend reading [this interview with Emil Wallner](https://blog.floydhub.com/emils-story-as-a-self-taught-ai-researcher/) who’s an “internet-taught” ML Researcher working as a resident at Google. \n",
    "\n",
    "Below, I discuss a few things you can do to exercise your ML learnings."
   ]
  },
  {
   "cell_type": "markdown",
   "id": "eaaf13ea",
   "metadata": {
    "id": "eaaf13ea"
   },
   "source": [
    "### Kaggle \n",
    "Kaggle is arguably one of the best platforms to develop skills for data preprocessing and applying ML in creative ways to solve unique problems. So, pick an interesting dataset or a competition *just for learning purposes*. Putting the competitive mindset aside, during my initial years it really helped me to develop a mindset of always learning to facilitate self-improvement.  If you commit to it hard enough, you will have developed a bunch of useful skills. Over time, you’ll definitely get better.\n",
    "\n",
    "Keeping an open mind for learning is important here because expectations of outcomes can quickly derail you. Also, remember that the rate of improvement is not the same for everyone. So, it’s better to just do things that are within your control (for example, learning something), and consistently get better at those.  \n",
    "\n",
    "### Papers / Concepts\n",
    "\n",
    "Reading research papers is a common undertaking in ML. It can be rewarding to summarize, implement, and blog about a paper that is impactful and tackles interesting problems. Extending on this theme, you have a number of options:\n",
    "\n",
    "- You can summarize a paper in your own words and publish it on platforms like [Medium](https://medium.com/) or even on [your own blog](https://github.com/fastai/fastpages).  It’s also important to get feedback on your work. So, feel free to share your work on Social Media as well as let the authors of the actual paper know about your work. A paper summary is supposed to be a reflection of how you perceived the paper. So, if you have criticisms of a paper, do include those with solid reasoning. If you’re looking for an example, definitely check out [Aakash Kumar Nain’s paper summaries](https://medium.com/@nainaakash012). \n",
    "\n",
    "\tPicking a paper could be a non-trivial work especially when there’s always a flood of papers on [arXiv](https://arxiv.org/). I usually follow the blogs of research labs at [Google](https://ai.googleblog.com/), [Meta](https://ai.facebook.com/blog), [AI2](https://blog.allenai.org/), [BAIR](https://bair.berkeley.edu/), etc., to keep myself up-to-date about the work I care about. There’s a good chance you’ll find your niche there. Following the works of the most accomplished researchers from my favorite domains is another practice I incorporate. \n",
    "\n",
    "\tIn this regard, I highly recommend the following two books that actively cite examples of relevant research papers and also implement them in ways that are practically beneficial: [Deep Learning for Coders with fastai and PyTorch](https://www.oreilly.com/library/view/deep-learning-for/9781492045519/) by Jeremy Howard and Sylvain Gugger, [Natural Language Processing with Transformers](https://www.oreilly.com/library/view/natural-language-processing/9781098103231/) by Lewis Tunstall, Leandro von Werra, and Thomas Wolf. For developing a general understanding of different areas in ML, I recommend the articles on [Distill Pub](https://distill.pub/). \n",
    "<br><br>\n",
    "- Nowadays, a majority of ML papers come with official open-source implementations in the interest of reproducibility. But some don’t. Regardless of either, it’s a good exercise to try to implement the novel bits of a paper. The [timm](https://github.com/rwightman/pytorch-image-models)[ libary](https://github.com/rwightman/pytorch-image-models) is a great example of how paper reimplementations should be structured. \n",
    "<br><br>\n",
    "- Blogging has easily become one of the most effective ways to communicate your understanding of something. This does not need to be just tied to papers, though. You can always pick up an interesting concept and blog about it. Many ML stalwarts keep pressing on why you should blog and here is one such example: [Why you (yes, you) should blog](https://medium.com/@racheltho/why-you-yes-you-should-blog-7d2544ac1045) by Rachel Thomas. \n",
    "\n",
    "You can also consider making videos on papers, concepts, and so on. If you haven’t already, then definitely get to know [Yannic Kilcher](https://www.youtube.com/channel/UCZHmQk67mSJgfCCTn7xBfew) who has revolutionized the way forward in this theme. \n",
    "\n",
    "### Open-source Contributions\n",
    "\n",
    "From my personal experience, I can confirm that making open-source contributions is one of the most useful ways to stay involved in the domain. All the popular ML Python libraries (Scikit-Learn, PyTorch, TensorFlow, Keras, JAX, Hugging Face Transformers, etc.) are open-source and that provides even more opportunities to learn and grow. \n",
    "\n",
    "I have a [separate presentation](https://www.youtube.com/watch?v=VsBEFUoESR4&t=3123s) on this topic but here, I provide my perspectives for context:\n",
    "\n",
    "- When you’re contributing to a well-maintained open-source library for the first time there’s a high chance that you’ll learn a few things other than just  ML. These include writing unit tests, setting up the local development environment, library building tools, etc. This way, you get first-hand exposure to how software engineering is approached in the ML domain in general.  \n",
    "\n",
    "\tSo, not only do you get to contribute to your favorite open-source library (which is an inexplicable feeling anyway), but you also get to learn skills that are practically quite demanding. Beyond these, you get a chance to interact with experts and get their feedback to improve your work. Additionally, you get to collect objective evidence of your skills - coding, thorough understanding of a critical component and the library, building a library, etc. - all of which are noteworthy. \n",
    "\n",
    "\tNote that you’re not alone if you’re feeling lost when you’re just starting to contribute to an open-source library. It happens to most. But when you put your mind toward making your contribution anyway, you get to get better in the process. \n",
    "<br><br>\n",
    "- If you feel you’re not ready yet to make contributions, working on your own open-source projects is another promising avenue to pursue. Take Andrej Karpathy’s [miniGPT](https://github.com/karpathy/minGPT) project as an example. Besides being an amazing educational resource for learning about the [GPT model](https://en.wikipedia.org/wiki/GPT-3), it serves as a great reference for implementing many of the foundational blocks of [Transformer](https://arxiv.org/abs/1706.03762)-based architectures.  \n",
    "\n",
    "\tIf you’re looking for open-source project ideas then [my presentation](https://youtu.be/dllfKQKlzvg) on this topic might be helpful. \n",
    "\n",
    "Now that we’ve looked into different ways of being engaged with our independent ML practice, let us take examples of two individuals from the ML community who have followed similar paths in this regard. "
   ]
  },
  {
   "cell_type": "markdown",
   "id": "908722cf",
   "metadata": {
    "id": "908722cf"
   },
   "source": [
    "## References from the Community\n",
    "\n",
    "[Matt](https://twitter.com/carrigmat) (ML Engineer at Hugging Face) says - \n",
    "\n",
    "> _[…] I did a few small projects to get familiar with Keras and then tried reimplementing papers or building examples to contribute to places like [keras-contrib](https://github.com/keras-team/keras-contrib) or [keras.io](https://keras.io/)._\n",
    "\n",
    "<br>\n",
    "\n",
    "[Chansung](https://twitter.com/algo_diver) (ML-GDE and MLOps Engineer) says - \n",
    "\n",
    "> _[...] Anyways, I actually didn’t plan what to do for the next few years. I just have followed my interests and the joy to participate as a community member. And whenever I make any moves, I found other exciting events are waiting for me. These days, I am really enjoying creating open-source projects and applied ML products, and collaborative projects with you as well._\n",
    "\n",
    "<br>\n",
    "\n",
    "Both of them continue to push their boundaries for self-improvement and are exceptional at what they do."
   ]
  },
  {
   "cell_type": "markdown",
   "id": "fd015f79",
   "metadata": {
    "id": "fd015f79"
   },
   "source": [
    "## Finishing Up\n",
    "\n",
    "The pursuit of betterment doesn’t stop after you land the job you were aspiring for. I continue to benefit from my open-source engagements even after professionally working in the area for some time now. I hope you’re able to take forward the pointers discussed in the post and experiment with them. If you have any suggestions for other interesting ways for independent ML practice please [let me know](mailto:spsayakpaul@gmail.com). \n",
    "\n",
    "## Acknowledgments\n",
    "\n",
    "I want to thank all my wonderful collaborators and mentors who continue to inspire me to be better. I am also thankful to [Neerajan Saha](https://www.instagram.com/neerajanmusic/) for proofreading this post. "
   ]
  }
 ],
 "metadata": {
  "colab": {
   "name": "2022-05-27-ml-practice.ipynb",
   "provenance": []
  },
  "kernelspec": {
   "display_name": "Python 3 (ipykernel)",
   "language": "python",
   "name": "python3"
  },
  "language_info": {
   "codemirror_mode": {
    "name": "ipython",
    "version": 3
   },
   "file_extension": ".py",
   "mimetype": "text/x-python",
   "name": "python",
   "nbconvert_exporter": "python",
   "pygments_lexer": "ipython3",
   "version": "3.9.17"
  }
 },
 "nbformat": 4,
 "nbformat_minor": 5
}
