{
 "cells": [
  {
   "cell_type": "raw",
   "id": "00f62d39",
   "metadata": {},
   "source": [
    "---\n",
    "aliases:\n",
    "- /2022/03/13/gsoc-faqs\n",
    "date: '2022-03-13'\n",
    "description: Sharing my perspective on two primary questions related to Google Summer\n",
    "  of Code.\n",
    "categories:\n",
    "- gsoc\n",
    "- open-source\n",
    "output-file: gsoc-faqs.html\n",
    "permalink: gsoc-faqs\n",
    "title: First Steps in GSoC\n",
    "image: gsoc_vertical.png\n",
    "image-height: \"5\"\n",
    "image-width: \"5\"\n",
    "toc: true\n",
    "---\n",
    "\n"
   ]
  },
  {
   "cell_type": "markdown",
   "id": "7a960a37",
   "metadata": {
    "id": "7a960a37"
   },
   "source": [
    "In this post, I discuss my perspective on two primary questions pertaining to the [Google Summer of Code (GSoC) program](https://summerofcode.withgoogle.com/). Even though my work is centered around Machine Learning (ML), I believe these pointers are domain-agnostic. This is based on [my experience of mentoring for TensorFlow at GSoC 2021](https://blog.tensorflow.org/2021/09/tensorflow-hubs-experience-with-gsoc-2021.html). Please note that these thoughts are of my own and may not reflect what anyone else (including the program organizers and my employer) thinks. "
   ]
  },
  {
   "cell_type": "markdown",
   "id": "c784d0c0",
   "metadata": {
    "id": "c784d0c0"
   },
   "source": [
    "## How should I get started?\n",
    "\n",
    "First and foremost, it's important to acknowledge that GSoC requires some amount of open-source experience beforehand. That not only makes your application stronger but also sets you up for the program itself. But beyond everything else, having a genuine passion for contributing to open-source is important and is a key enabling factor. Open-source should be a fun engagement driven by your passion for helping a community. So, ensure you’re chasing the right things.\n",
    "\n",
    "- Understand what GSoC is, how it works, what are the rules, and study some projects from the previous years by going to GSoC’s official website: ​​<https://summerofcode.withgoogle.com/>. \n",
    "\n",
    "\tHere’s [another resource](https://developers.google.com/open-source/gsoc/resources/downloads/GSoC2022Presentation.pdf) that might be equally helpful. It’s important that you set your expectations right from the very beginning. Sometimes having conversations with the past GSoC contributors is really helpful in this regard. \n",
    "<br/>\n",
    "- Take a look at the [organizations](https://summerofcode.withgoogle.com/programs/2022/organizations) taking part in GSoC. You'll notice that they have all their projects listed for which they are welcoming contributions. \n",
    "<br/>\n",
    "- Study all the official resources that are out there for the project you want to contribute to. You may be interested in multiple projects but it helps to laser focus on one so that you can precisely figure out what components you'd want to work on, your timeline, etc. \n",
    "<br/>\n",
    "- Get started contributing. Here are some good examples that make it clear what a GSoC contributor should do first:\n",
    "\n",
    "\t- [ArduPilot](https://ardupilot.org/dev/docs/gsoc.html)\n",
    "\t- [GNOME](https://gsoc.gnome.org/)\n",
    "\t- [Performance Co-Pilot](https://pcp.io/gsoc/contributors.html)\n",
    "\t- [RoboComp](https://robocomp.github.io/web/gsoc/2022/contributor_guidance)\n",
    "\t- [Wikimedia Foundation](https://www.mediawiki.org/wiki/Google_Summer_of_Code/Participants#Application_process_steps)\n",
    "<br/><br/>\n",
    "- Sometimes a project may not require having prior contribution experience but having it is almost always better. [TensorFlow Hub](https://www.tensorflow.org/hub/overview) (TF-Hub) is one such example where you’re generally asked to code a ML model, (optionally) train it, and host the model on TF-Hub thereby making it easier for the community to use the model. \n",
    "<br/><br/>\n",
    "- Lastly, if you haven’t worked with a version control system before definitely spend time doing that. Git is a good example of such a system and [here’s](https://www.udacity.com/course/version-control-with-git--ud123) a good course from Udacity that can be helpful. "
   ]
  },
  {
   "cell_type": "markdown",
   "id": "09f5c663",
   "metadata": {
    "id": "09f5c663"
   },
   "source": [
    "## What makes a proposal great?\n",
    "\n",
    "Firstly, I’d like to acknowledge that the answers to this question should be subjective. That said, I think there are certain common aspects that are shared by all great GSoC proposals. \n",
    "\n",
    "- GSoC is about building things. So including your experience that reflects the same immediately catches the eye. You build that experience over a period of time, it’s not something built overnight. That way, your experience speaks about a few things: consistency, technical depth, punctuality, communication, etc. Let me provide some examples. \n",
    "<br/><br/>\n",
    "\tSay, you wanted to contribute to [KerasCV](https://github.com/keras-team/keras-cv/) by adding a new layer(s) to it. If you can show that you've already worked on something that reflects the experience relevant to the contribution, it puts you in a better position than someone without that experience. \n",
    "\n",
    "\tSimilarly, if you wanted to contribute a model to TF-Hub, it helps to show that you’ve experience implementing models and relevant things such as layers, blocks, etc. \n",
    "<br/>\n",
    "- When you’re talking about an experience in your proposal be sure to back it with verifiable links. Without that, the mention becomes practically void. \n",
    "<br/>\n",
    "- Don’t just mention the components of the project you’d like to work on. Include all the nitty-gritty of that – why you’d like to work on them and why it’s useful, what your approaches will be, etc. If you anticipate some edge cases or blockers include them too. This speaks volumes about your maturity. \n",
    "<br/>\n",
    "- Keep your proposal grammatically correct and easily understandable. This helps you communicate your proposal better. Remember that it’s your responsibility to ensure that your proposal was communicated in an expected way. \n",
    "<br/><br/>\n",
    "- Sometimes, applications come with incomplete sentences, inconsistency in sentence casing, without punctuations, etc. This is an anti-pattern. Try hard to ensure your proposal doesn’t have those things. This may readily reduce the seriousness of your proposal and the work you put into it. \n",
    "<br/><br/>\n",
    "- Include a realistic timeline that covers the project deliverables and includes enough time for you and the mentors to communicate effectively. Unexpected things can happen all the time so, it helps to also include some extra time to dedicate to those situations. \n",
    "\n",
    "Sometimes, a project may welcome ideas from the contributors. If you’d like to propose something that’s already not enlisted in a project, be sure to reach out to the project mentor to discuss the feasibility of your idea before working on the proposal."
   ]
  },
  {
   "cell_type": "markdown",
   "id": "9c52a903",
   "metadata": {
    "id": "9c52a903"
   },
   "source": [
    "## Additional notes\n",
    "\n",
    "During [GSoC 2021](https://summerofcode.withgoogle.com/archive/2021/organizations/6649841832165376), I had the opportunity to work with Aditya Kane and Vausdev Gupta as their mentor. Here are their GSoC proposals:\n",
    "\n",
    "- [Aditya](https://docs.google.com/document/d/1h9kZCywWWveekUFH1SS5rBZINK-W9SDb/edit)\n",
    "- [Vasudev](https://github.com/vasudevgupta7/gsoc-wav2vec2/blob/main/assets/milestone.pdf) \n",
    "\n",
    "I'm fortunate to be mentoring for TensorFlow at GSoC 2022 as well. If you're curious, I have a [presentation](https://www.youtube.com/watch?v=VsBEFUoESR4&t=3123s) that discusses how open-source can enable different possibilities in the ML world. If you’re looking for an example of a non-ML proposal, then [Anubhav Singh’s proposal](https://drive.google.com/file/d/1c-nqgm54pIvm_YQKJ4SohLUV6iKGGYH6/view) is a great example. \n",
    "\n",
    "Additionally, we penned down our mentorship experience in [this blog post](https://blog.tensorflow.org/2021/09/tensorflow-hubs-experience-with-gsoc-2021.html) that may provide additional context. "
   ]
  }
 ],
 "metadata": {
  "colab": {
   "name": "2022-03-13-gsoc-faqs.ipynb",
   "provenance": []
  },
  "kernelspec": {
   "display_name": "Python 3 (ipykernel)",
   "language": "python",
   "name": "python3"
  },
  "language_info": {
   "codemirror_mode": {
    "name": "ipython",
    "version": 3
   },
   "file_extension": ".py",
   "mimetype": "text/x-python",
   "name": "python",
   "nbconvert_exporter": "python",
   "pygments_lexer": "ipython3",
   "version": "3.9.17"
  }
 },
 "nbformat": 4,
 "nbformat_minor": 5
}
